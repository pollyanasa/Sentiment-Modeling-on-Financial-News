{
 "cells": [
  {
   "cell_type": "markdown",
   "metadata": {},
   "source": [
    "## Headline Sentiment Modeling\n",
    "### dataset Financial News 2025: https://www.kaggle.com/datasets/pratyushpuri/financial-news-market-events-dataset-2025"
   ]
  },
  {
   "cell_type": "markdown",
   "metadata": {},
   "source": [
    "| Column                             | Description                                              | Use                                   |\n",
    "| ---------------------------------- | -------------------------------------------------------- | ------------------------------------- |\n",
    "| `Headline`                         | Text of news                                             | Input                               |\n",
    "| `Sentiment`                        | Label: Negative / Neutral / Other                        | Target                              |"
   ]
  },
  {
   "cell_type": "markdown",
   "metadata": {},
   "source": [
    "### Train and evaluate NLP models to predict the sentiment of financial news headlines, comparing predictions to the existing Sentiment column"
   ]
  },
  {
   "cell_type": "markdown",
   "metadata": {},
   "source": [
    "## TF-IDF"
   ]
  },
  {
   "cell_type": "markdown",
   "metadata": {},
   "source": [
    "#### libraries"
   ]
  },
  {
   "cell_type": "code",
   "execution_count": 1,
   "metadata": {},
   "outputs": [],
   "source": [
    "import pandas as pd\n",
    "import numpy as np\n",
    "import re\n",
    "from sklearn.model_selection import train_test_split\n",
    "from sklearn.feature_extraction.text import TfidfVectorizer\n",
    "from sklearn.linear_model import LogisticRegression\n",
    "from sklearn.metrics import classification_report, confusion_matrix\n",
    "import matplotlib.pyplot as plt\n",
    "import seaborn as sns"
   ]
  },
  {
   "cell_type": "markdown",
   "metadata": {},
   "source": [
    "####  Load and clean data"
   ]
  },
  {
   "cell_type": "code",
   "execution_count": 2,
   "metadata": {},
   "outputs": [],
   "source": [
    "# Load your CSV\n",
    "df = pd.read_csv(\"/home/pollyanas/Downloads/financial_news_2025/financial_news_events.csv\")\n",
    "\n",
    "# Keep only relevant columns\n",
    "df = df[['Headline', 'Sentiment']]\n",
    "\n",
    "# Drop missing values\n",
    "df.dropna(subset=['Headline'], inplace=True)\n",
    "\n",
    "# Filter only valid sentiment values\n",
    "valid_sentiments = ['Negative', 'Neutral', 'Other']\n",
    "df = df[df['Sentiment'].isin(valid_sentiments)]\n",
    "\n",
    "# Reset index\n",
    "df.reset_index(drop=True, inplace=True)"
   ]
  },
  {
   "cell_type": "code",
   "execution_count": 3,
   "metadata": {},
   "outputs": [
    {
     "data": {
      "text/html": [
       "<div>\n",
       "<style scoped>\n",
       "    .dataframe tbody tr th:only-of-type {\n",
       "        vertical-align: middle;\n",
       "    }\n",
       "\n",
       "    .dataframe tbody tr th {\n",
       "        vertical-align: top;\n",
       "    }\n",
       "\n",
       "    .dataframe thead th {\n",
       "        text-align: right;\n",
       "    }\n",
       "</style>\n",
       "<table border=\"1\" class=\"dataframe\">\n",
       "  <thead>\n",
       "    <tr style=\"text-align: right;\">\n",
       "      <th></th>\n",
       "      <th>Headline</th>\n",
       "      <th>Sentiment</th>\n",
       "    </tr>\n",
       "  </thead>\n",
       "  <tbody>\n",
       "    <tr>\n",
       "      <th>0</th>\n",
       "      <td>New housing data release shows a slowdown in m...</td>\n",
       "      <td>Neutral</td>\n",
       "    </tr>\n",
       "    <tr>\n",
       "      <th>1</th>\n",
       "      <td>Government spending bill is expected to stimul...</td>\n",
       "      <td>Negative</td>\n",
       "    </tr>\n",
       "    <tr>\n",
       "      <th>2</th>\n",
       "      <td>Central bank maintains status quo on interest ...</td>\n",
       "      <td>Negative</td>\n",
       "    </tr>\n",
       "    <tr>\n",
       "      <th>3</th>\n",
       "      <td>Tech Giant's New Product Launch Sparks Sector-...</td>\n",
       "      <td>Neutral</td>\n",
       "    </tr>\n",
       "    <tr>\n",
       "      <th>4</th>\n",
       "      <td>Market sentiment turns positive on vaccine tri...</td>\n",
       "      <td>Negative</td>\n",
       "    </tr>\n",
       "  </tbody>\n",
       "</table>\n",
       "</div>"
      ],
      "text/plain": [
       "                                            Headline Sentiment\n",
       "0  New housing data release shows a slowdown in m...   Neutral\n",
       "1  Government spending bill is expected to stimul...  Negative\n",
       "2  Central bank maintains status quo on interest ...  Negative\n",
       "3  Tech Giant's New Product Launch Sparks Sector-...   Neutral\n",
       "4  Market sentiment turns positive on vaccine tri...  Negative"
      ]
     },
     "execution_count": 3,
     "metadata": {},
     "output_type": "execute_result"
    }
   ],
   "source": [
    "df.head()"
   ]
  },
  {
   "cell_type": "markdown",
   "metadata": {},
   "source": [
    "#### Preprocess text"
   ]
  },
  {
   "cell_type": "code",
   "execution_count": 4,
   "metadata": {},
   "outputs": [],
   "source": [
    "def clean_text(text):\n",
    "    text = text.lower()\n",
    "    text = re.sub(r\"http\\S+\", \"\", text)  # remove URLs\n",
    "    text = re.sub(r\"[^a-z\\s]\", \"\", text)  # remove punctuation/numbers\n",
    "    text = re.sub(r\"\\s+\", \" \", text).strip()  # remove extra whitespace\n",
    "    return text\n",
    "\n",
    "df['Clean_Headline'] = df['Headline'].apply(clean_text)"
   ]
  },
  {
   "cell_type": "code",
   "execution_count": 5,
   "metadata": {},
   "outputs": [
    {
     "name": "stdout",
     "output_type": "stream",
     "text": [
      "Rows x Columns: (1832, 3)\n",
      "NA:\n",
      " Headline          0\n",
      "Sentiment         0\n",
      "Clean_Headline    0\n",
      "dtype: int64\n"
     ]
    }
   ],
   "source": [
    "print(\"Rows x Columns:\", df.shape)\n",
    "print(\"NA:\\n\", df.isna().sum())"
   ]
  },
  {
   "cell_type": "code",
   "execution_count": 6,
   "metadata": {},
   "outputs": [
    {
     "name": "stdout",
     "output_type": "stream",
     "text": [
      "Sentiment values:\n",
      " Negative    926\n",
      "Neutral     906\n",
      "Name: Sentiment, dtype: int64\n"
     ]
    }
   ],
   "source": [
    "print(\"Sentiment values:\\n\", df['Sentiment'].value_counts())"
   ]
  },
  {
   "cell_type": "markdown",
   "metadata": {},
   "source": [
    "#### Encode Target"
   ]
  },
  {
   "cell_type": "code",
   "execution_count": 7,
   "metadata": {},
   "outputs": [],
   "source": [
    "# Map sentiments to integers\n",
    "label_map = {'Negative': 0, 'Neutral': 1}\n",
    "df['Label'] = df['Sentiment'].map(label_map)"
   ]
  },
  {
   "cell_type": "code",
   "execution_count": 8,
   "metadata": {},
   "outputs": [
    {
     "name": "stdout",
     "output_type": "stream",
     "text": [
      "Balance (Label):\n",
      " 0    926\n",
      "1    906\n",
      "Name: Label, dtype: int64\n"
     ]
    }
   ],
   "source": [
    "print(\"Balance (Label):\\n\", df['Label'].value_counts())"
   ]
  },
  {
   "cell_type": "markdown",
   "metadata": {},
   "source": [
    "#### Train/Test"
   ]
  },
  {
   "cell_type": "code",
   "execution_count": 9,
   "metadata": {},
   "outputs": [],
   "source": [
    "X_train, X_test, y_train, y_test = train_test_split(\n",
    "    df['Clean_Headline'],\n",
    "    df['Label'],\n",
    "    test_size=0.2,\n",
    "    random_state=42,\n",
    "    stratify=df['Label']\n",
    ")"
   ]
  },
  {
   "cell_type": "markdown",
   "metadata": {},
   "source": [
    "TF-IDF belongs to the field of NLP. It is one of the classic techniques for text representation, which today coexists with more advanced embedding methods based on neural networks.\n",
    "\n",
    "TF-IDF is a way of transforming text into numbers, highlighting important words that help distinguish documents, while ignoring the very common ones."
   ]
  },
  {
   "cell_type": "markdown",
   "metadata": {},
   "source": [
    "#### TF-IDF + Logistic Regression"
   ]
  },
  {
   "cell_type": "code",
   "execution_count": 10,
   "metadata": {},
   "outputs": [],
   "source": [
    "# Vectorize text\n",
    "tfidf = TfidfVectorizer(max_features=5000, ngram_range=(1,2), stop_words='english')\n",
    "X_train_tfidf = tfidf.fit_transform(X_train)\n",
    "X_test_tfidf = tfidf.transform(X_test)\n",
    "\n",
    "# Train classifier\n",
    "clf = LogisticRegression(max_iter=1000)\n",
    "clf.fit(X_train_tfidf, y_train)\n",
    "\n",
    "# Predict\n",
    "y_pred = clf.predict(X_test_tfidf)"
   ]
  },
  {
   "cell_type": "markdown",
   "metadata": {},
   "source": [
    "## Why Use TF-IDF + Logistic Regression for Sentiment Classification?\n",
    "\n",
    "### 1. TF-IDF: Turning Text into Numbers\n",
    "\n",
    "> **TF-IDF (Term Frequency–Inverse Document Frequency)** is a way to convert text into **numerical features** that a machine learning model can understand.\n",
    "\n",
    "* It **counts the importance of each word** in a sentence, relative to the whole dataset.\n",
    "* Common words like “the”, “market”, “news” are **down-weighted**.\n",
    "* Rare but meaningful words like “surge”, “crash”, “acquisition” get **higher scores**.\n",
    "\n",
    " It captures **keyword relevance** without needing deep learning.\n",
    "\n",
    "---\n",
    "\n",
    "### 2. Logistic Regression: A Simple Yet Powerful Classifier\n",
    "\n",
    "Once the text is vectorized (via TF-IDF), we use **Logistic Regression** to:\n",
    "\n",
    "* **Classify the text** into categories (Negative / Neutral / Other)\n",
    "* It’s **fast**, works well with **sparse TF-IDF vectors**, and is **interpretable** (you can see which words influence predictions)\n",
    "\n",
    "It’s a great **baseline model** for text classification.\n",
    "\n",
    "---\n",
    "\n",
    "##  Why TF-IDF + Logistic Regression Is a Strong Baseline:\n",
    "\n",
    "| Reason                  | Explanation                                        |\n",
    "| ----------------------- | -------------------------------------------------- |\n",
    "|  Simplicity           | Easy to train, explain, and interpret              |\n",
    "|  Fast                 | Quick training and testing, even on large datasets |\n",
    "|  Surprisingly strong  | Performs competitively on many NLP tasks           |\n",
    "|  Transparent          | You can see which words impact sentiment most      |\n",
    "|  Good for prototyping | Helps test whether your data is learnable          |\n",
    "\n",
    "---\n",
    "\n",
    "##  When TF-IDF + Logistic Regression is **Not Enough**:\n",
    "\n",
    "*  If your headlines are very **short**, and word context is essential\n",
    "*  If you need **nuanced understanding** of sarcasm, negation, or financial jargon\n",
    "*   If word **order** or **phrasing** affects sentiment (e.g. “not bad” vs “bad”)\n",
    "\n",
    "Then you use:\n",
    "\n",
    ">  **Transformer Models (like FinBERT or BERT)** — they understand **context and semantics**, not just word counts.\n",
    "\n",
    "---\n",
    "\n",
    "## Summary: Why We Use TF-IDF + Logistic Regression\n",
    "\n",
    "| TF-IDF                            | Logistic Regression                         |\n",
    "| --------------------------------- | ------------------------------------------- |\n",
    "| Converts text to numeric features | Classifies those features                   |\n",
    "| Highlights meaningful words       | Separates sentiments based on word patterns |\n",
    "| Fast and efficient                | Simple but effective for baseline           |\n",
    "\n",
    " It’s the **first step** in any serious NLP pipeline. If it works well, you may not need heavy models.\n",
    "If it doesn’t — you move to **FinBERT** or deep learning next."
   ]
  },
  {
   "cell_type": "markdown",
   "metadata": {},
   "source": [
    "#### Evaluate performance"
   ]
  },
  {
   "cell_type": "code",
   "execution_count": 11,
   "metadata": {},
   "outputs": [
    {
     "name": "stdout",
     "output_type": "stream",
     "text": [
      "Classification Report:\n",
      "              precision    recall  f1-score   support\n",
      "\n",
      "    Negative       0.53      0.56      0.54       186\n",
      "     Neutral       0.51      0.48      0.50       181\n",
      "\n",
      "    accuracy                           0.52       367\n",
      "   macro avg       0.52      0.52      0.52       367\n",
      "weighted avg       0.52      0.52      0.52       367\n",
      "\n"
     ]
    },
    {
     "data": {
      "image/png": "[encoded data removed]",
      "text/plain": [
       "<Figure size 432x288 with 2 Axes>"
      ]
     },
     "metadata": {
      "needs_background": "light"
     },
     "output_type": "display_data"
    }
   ],
   "source": [
    "print(\"Classification Report:\")\n",
    "print(classification_report(y_test, y_pred, target_names=label_map.keys()))\n",
    "\n",
    "# Confusion Matrix\n",
    "conf_matrix = confusion_matrix(y_test, y_pred)\n",
    "plt.figure(figsize=(6,4))\n",
    "sns.heatmap(conf_matrix, annot=True, fmt='d', xticklabels=label_map.keys(), yticklabels=label_map.keys(), cmap=\"Blues\")\n",
    "plt.xlabel(\"Predicted\")\n",
    "plt.ylabel(\"Actual\")\n",
    "plt.title(\"Confusion Matrix\")\n",
    "plt.show()"
   ]
  },
  {
   "cell_type": "markdown",
   "metadata": {},
   "source": [
    "\n",
    "## Classification Report\n",
    "\n",
    "* **Negative**\n",
    "\n",
    "  * Precision: **0.53** → About 53% of predicted \"Negative\" headlines are truly negative.\n",
    "  * Recall: **0.56** → The model correctly identifies 56% of actual \"Negative\" cases.\n",
    "  * F1: **0.54** → Balanced score between precision & recall.\n",
    "\n",
    "* **Neutral**\n",
    "\n",
    "  * Precision: **0.51** → About half of predicted \"Neutral\" headlines are actually neutral.\n",
    "  * Recall: **0.48** → The model finds only 48% of real neutral cases.\n",
    "  * F1: **0.50** → Slightly worse than \"Negative\".\n",
    "\n",
    "* **Accuracy (0.52)**\n",
    "  The model is performing just slightly better than random guessing in a **binary classification** (random chance = 0.50).\n",
    "\n",
    "* **Macro avg (0.52)**\n",
    "  Both classes are treated equally → confirms balance issues.\n",
    "\n",
    "* **Weighted avg (0.52)**\n",
    "  Same as macro, meaning dataset is balanced (almost equal Negative vs Neutral counts).\n",
    "\n",
    "---\n",
    "\n",
    "##  Confusion Matrix Interpretation\n",
    "\n",
    "* **104 True Negatives (top left)**: Correctly predicted \"Negative\".\n",
    "* **87 True Neutrals (bottom right)**: Correctly predicted \"Neutral\".\n",
    "* **82 False Negatives (top right)**: Neutral misclassified as Negative.\n",
    "* **94 False Positives (bottom left)**: Negative misclassified as Neutral.\n",
    "\n",
    " The model struggles to separate Neutral and Negative — predictions are **nearly 50/50**.\n",
    "\n",
    "---\n",
    "\n",
    "##  What This Means\n",
    "\n",
    "* Your **TF-IDF + Logistic Regression** baseline is **weak** — because financial headlines are very nuanced\n",
    "\n",
    "This result is **expected** for a simple baseline. Now we should **upgrade to a transformer model**."
   ]
  },
  {
   "cell_type": "markdown",
   "metadata": {},
   "source": [
    "## FinBERT Sentiment Classification"
   ]
  },
  {
   "cell_type": "markdown",
   "metadata": {},
   "source": [
    "#### libraries"
   ]
  },
  {
   "cell_type": "code",
   "execution_count": 25,
   "metadata": {},
   "outputs": [],
   "source": [
    "import pandas as pd\n",
    "import torch\n",
    "from torch.utils.data import Dataset, DataLoader\n",
    "from sklearn.model_selection import train_test_split\n",
    "from sklearn.metrics import classification_report, confusion_matrix,accuracy_score, f1_score\n",
    "from transformers import AutoTokenizer, AutoModelForSequenceClassification, Trainer, TrainingArguments, AutoModel\n",
    "import matplotlib.pyplot as plt\n",
    "import seaborn as sns\n",
    "from xgboost import XGBClassifier"
   ]
  },
  {
   "cell_type": "markdown",
   "metadata": {},
   "source": [
    "#### Load and Clean Data"
   ]
  },
  {
   "cell_type": "code",
   "execution_count": 13,
   "metadata": {},
   "outputs": [],
   "source": [
    "# Load your CSV\n",
    "df = pd.read_csv(\"/home/pollyanas/Downloads/financial_news_2025/financial_news_events.csv\")\n",
    "\n",
    "# Keep only relevant columns\n",
    "df = df[['Headline', 'Sentiment']]\n",
    "\n",
    "# Drop missing values\n",
    "df.dropna(subset=['Headline'], inplace=True)\n",
    "\n",
    "# Filter to valid sentiments\n",
    "valid_sentiments = ['Negative', 'Neutral', 'Other']\n",
    "df = df[df['Sentiment'].isin(valid_sentiments)]\n",
    "\n",
    "# Encode labels\n",
    "label_map = {'Negative': 0, 'Neutral': 1}\n",
    "df['Label'] = df['Sentiment'].map(label_map)\n",
    "\n",
    "# Train-test split\n",
    "train_texts, test_texts, train_labels, test_labels = train_test_split(\n",
    "    df['Headline'].tolist(),\n",
    "    df['Label'].tolist(),\n",
    "    test_size=0.2,\n",
    "    random_state=42,\n",
    "    stratify=df['Label']\n",
    ")"
   ]
  },
  {
   "cell_type": "markdown",
   "metadata": {},
   "source": [
    "#### Tokenization"
   ]
  },
  {
   "cell_type": "code",
   "execution_count": 14,
   "metadata": {},
   "outputs": [],
   "source": [
    "tokenizer = AutoTokenizer.from_pretrained(\"ProsusAI/finbert\")\n",
    "\n",
    "class NewsDataset(Dataset):\n",
    "    def __init__(self, texts, labels, tokenizer, max_len=64):\n",
    "        self.texts = texts\n",
    "        self.labels = labels\n",
    "        self.tokenizer = tokenizer\n",
    "        self.max_len = max_len\n",
    "\n",
    "    def __len__(self):\n",
    "        return len(self.texts)\n",
    "\n",
    "    def __getitem__(self, idx):\n",
    "        text = str(self.texts[idx])\n",
    "        label = self.labels[idx]\n",
    "        encoding = self.tokenizer(\n",
    "            text,\n",
    "            truncation=True,\n",
    "            padding=\"max_length\",\n",
    "            max_length=self.max_len,\n",
    "            return_tensors=\"pt\"\n",
    "        )\n",
    "        return {\n",
    "            \"input_ids\": encoding[\"input_ids\"].squeeze(),\n",
    "            \"attention_mask\": encoding[\"attention_mask\"].squeeze(),\n",
    "            \"labels\": torch.tensor(label, dtype=torch.long)\n",
    "        }\n",
    "\n",
    "train_dataset = NewsDataset(train_texts, train_labels, tokenizer)\n",
    "test_dataset = NewsDataset(test_texts, test_labels, tokenizer)"
   ]
  },
  {
   "cell_type": "markdown",
   "metadata": {},
   "source": [
    "#### Load FinBERT model"
   ]
  },
  {
   "cell_type": "code",
   "execution_count": 15,
   "metadata": {},
   "outputs": [
    {
     "name": "stderr",
     "output_type": "stream",
     "text": [
      "Some weights of BertForSequenceClassification were not initialized from the model checkpoint at ProsusAI/finbert and are newly initialized because the shapes did not match:\n",
      "- classifier.weight: found shape torch.Size([3, 768]) in the checkpoint and torch.Size([2, 768]) in the model instantiated\n",
      "- classifier.bias: found shape torch.Size([3]) in the checkpoint and torch.Size([2]) in the model instantiated\n",
      "You should probably TRAIN this model on a down-stream task to be able to use it for predictions and inference.\n"
     ]
    }
   ],
   "source": [
    "model = AutoModelForSequenceClassification.from_pretrained(\n",
    "    \"ProsusAI/finbert\",\n",
    "    num_labels=2, \n",
    "    ignore_mismatched_sizes=True  # fix mismatch from 3-class checkpoint\n",
    ")"
   ]
  },
  {
   "cell_type": "markdown",
   "metadata": {},
   "source": [
    "#### Training Configuration"
   ]
  },
  {
   "cell_type": "code",
   "execution_count": 16,
   "metadata": {},
   "outputs": [],
   "source": [
    "training_args = TrainingArguments(\n",
    "    output_dir=\"./finbert_results\",\n",
    "    evaluation_strategy=\"epoch\",\n",
    "    save_strategy=\"epoch\",\n",
    "    learning_rate=2e-5,\n",
    "    per_device_train_batch_size=16,\n",
    "    per_device_eval_batch_size=16,\n",
    "    num_train_epochs=3,\n",
    "    weight_decay=0.01,\n",
    "    logging_dir=\"./logs\",\n",
    "    load_best_model_at_end=True,\n",
    "    metric_for_best_model=\"accuracy\"\n",
    ")"
   ]
  },
  {
   "cell_type": "markdown",
   "metadata": {},
   "source": [
    "#### Define Metrics"
   ]
  },
  {
   "cell_type": "code",
   "execution_count": 17,
   "metadata": {},
   "outputs": [],
   "source": [
    "def compute_metrics(eval_pred):\n",
    "    predictions, labels = eval_pred\n",
    "    preds = predictions.argmax(-1)\n",
    "    return {\n",
    "        \"accuracy\": accuracy_score(labels, preds),\n",
    "        \"f1_macro\": f1_score(labels, preds, average=\"macro\"),\n",
    "        \"f1_weighted\": f1_score(labels, preds, average=\"weighted\")\n",
    "    }"
   ]
  },
  {
   "cell_type": "markdown",
   "metadata": {},
   "source": [
    "#### Trainer"
   ]
  },
  {
   "cell_type": "code",
   "execution_count": 18,
   "metadata": {},
   "outputs": [],
   "source": [
    "trainer = Trainer(\n",
    "    model=model,\n",
    "    args=training_args,\n",
    "    train_dataset=train_dataset,\n",
    "    eval_dataset=test_dataset,\n",
    "    tokenizer=tokenizer,\n",
    "    compute_metrics=compute_metrics\n",
    ")"
   ]
  },
  {
   "cell_type": "markdown",
   "metadata": {},
   "source": [
    "#### Train Model"
   ]
  },
  {
   "cell_type": "code",
   "execution_count": 19,
   "metadata": {},
   "outputs": [
    {
     "name": "stderr",
     "output_type": "stream",
     "text": [
      "/home/pollyanas/anaconda3/lib/python3.7/site-packages/transformers/optimization.py:415: FutureWarning: This implementation of AdamW is deprecated and will be removed in a future version. Use the PyTorch implementation torch.optim.AdamW instead, or set `no_deprecation_warning=True` to disable this warning\n",
      "  FutureWarning,\n",
      "You're using a BertTokenizerFast tokenizer. Please note that with a fast tokenizer, using the `__call__` method is faster than using a method to encode the text followed by a call to the `pad` method to get a padded encoding.\n"
     ]
    },
    {
     "data": {
      "text/html": [
       "\n",
       "    <div>\n",
       "      \n",
       "      <progress value='276' max='276' style='width:300px; height:20px; vertical-align: middle;'></progress>\n",
       "      [276/276 18:18, Epoch 3/3]\n",
       "    </div>\n",
       "    <table border=\"1\" class=\"dataframe\">\n",
       "  <thead>\n",
       " <tr style=\"text-align: left;\">\n",
       "      <th>Epoch</th>\n",
       "      <th>Training Loss</th>\n",
       "      <th>Validation Loss</th>\n",
       "      <th>Accuracy</th>\n",
       "      <th>F1 Macro</th>\n",
       "      <th>F1 Weighted</th>\n",
       "    </tr>\n",
       "  </thead>\n",
       "  <tbody>\n",
       "    <tr>\n",
       "      <td>1</td>\n",
       "      <td>No log</td>\n",
       "      <td>0.692333</td>\n",
       "      <td>0.506812</td>\n",
       "      <td>0.484714</td>\n",
       "      <td>0.486168</td>\n",
       "    </tr>\n",
       "    <tr>\n",
       "      <td>2</td>\n",
       "      <td>No log</td>\n",
       "      <td>0.692000</td>\n",
       "      <td>0.514986</td>\n",
       "      <td>0.511501</td>\n",
       "      <td>0.512063</td>\n",
       "    </tr>\n",
       "    <tr>\n",
       "      <td>3</td>\n",
       "      <td>No log</td>\n",
       "      <td>0.692422</td>\n",
       "      <td>0.514986</td>\n",
       "      <td>0.466151</td>\n",
       "      <td>0.468351</td>\n",
       "    </tr>\n",
       "  </tbody>\n",
       "</table><p>"
      ],
      "text/plain": [
       "<IPython.core.display.HTML object>"
      ]
     },
     "metadata": {},
     "output_type": "display_data"
    },
    {
     "data": {
      "text/plain": [
       "TrainOutput(global_step=276, training_loss=0.699280503867329, metrics={'train_runtime': 1101.4233, 'train_samples_per_second': 3.99, 'train_steps_per_second': 0.251, 'total_flos': 144546636038400.0, 'train_loss': 0.699280503867329, 'epoch': 3.0})"
      ]
     },
     "execution_count": 19,
     "metadata": {},
     "output_type": "execute_result"
    }
   ],
   "source": [
    "trainer.train()"
   ]
  },
  {
   "cell_type": "markdown",
   "metadata": {},
   "source": [
    "#### Evaluate Perfomance"
   ]
  },
  {
   "cell_type": "code",
   "execution_count": 20,
   "metadata": {},
   "outputs": [
    {
     "data": {
      "text/html": [],
      "text/plain": [
       "<IPython.core.display.HTML object>"
      ]
     },
     "metadata": {},
     "output_type": "display_data"
    },
    {
     "name": "stdout",
     "output_type": "stream",
     "text": [
      "Classification Report:\n",
      "              precision    recall  f1-score   support\n",
      "\n",
      "    Negative       0.52      0.59      0.55       186\n",
      "     Neutral       0.51      0.44      0.47       181\n",
      "\n",
      "    accuracy                           0.51       367\n",
      "   macro avg       0.51      0.51      0.51       367\n",
      "weighted avg       0.51      0.51      0.51       367\n",
      "\n"
     ]
    },
    {
     "data": {
      "image/png": "[encoded data removed]",
      "text/plain": [
       "<Figure size 432x288 with 2 Axes>"
      ]
     },
     "metadata": {
      "needs_background": "light"
     },
     "output_type": "display_data"
    }
   ],
   "source": [
    "preds = trainer.predict(test_dataset)\n",
    "y_pred = preds.predictions.argmax(-1)\n",
    "\n",
    "# Report\n",
    "print(\"Classification Report:\")\n",
    "print(classification_report(test_labels, y_pred, target_names=label_map.keys()))\n",
    "\n",
    "# Confusion Matrix\n",
    "conf_matrix = confusion_matrix(test_labels, y_pred)\n",
    "plt.figure(figsize=(6,4))\n",
    "sns.heatmap(conf_matrix, annot=True, fmt='d',\n",
    "            xticklabels=label_map.keys(),\n",
    "            yticklabels=label_map.keys(),\n",
    "            cmap=\"Blues\")\n",
    "plt.xlabel(\"Predicted\")\n",
    "plt.ylabel(\"Actual\")\n",
    "plt.title(\"FinBERT Sentiment Classification (Negative vs Neutral)\")\n",
    "plt.show()"
   ]
  },
  {
   "cell_type": "markdown",
   "metadata": {},
   "source": [
    "##  Classification Report (FinBERT 2 classes)\n",
    "\n",
    "* **Negative**\n",
    "\n",
    "  * Precision = **0.52** → About half of the predicted negatives are truly negative.\n",
    "  * Recall = **0.59** → It captures ~59% of real negative headlines.\n",
    "  * F1 = **0.55** → Balanced score.\n",
    "\n",
    "* **Neutral**\n",
    "\n",
    "  * Precision = **0.51** → Half of predicted neutrals are correct.\n",
    "  * Recall = **0.44** → Model misses many neutrals.\n",
    "  * F1 = **0.47** → Lower than negative.\n",
    "\n",
    "* **Overall Accuracy = 0.51** → Still basically random guessing (baseline for 2-class balanced dataset is ~0.50).\n",
    "\n",
    "* Macro/weighted avg F1 = **0.51** → Confirms weak separation.\n",
    "\n",
    "---\n",
    "\n",
    "## Confusion Matrix\n",
    "\n",
    "* **Negative correctly classified = 110**\n",
    "* **Neutral correctly classified = 79**\n",
    "* **Misclassifications = 178 (76 + 102)**\n",
    "\n",
    "So the model is **biased toward predicting \"Negative\"** (better recall for Negative, worse for Neutral).\n",
    "\n",
    "---\n",
    "\n",
    "##  Why FinBERT Didn’t Improve\n",
    "\n",
    "Normally FinBERT **should outperform TF-IDF**. Possible reasons why it didn’t here:\n",
    "\n",
    "1. **Small dataset size (~3,000 headlines)**\n",
    "   → Transformers need more data; with ~180 samples per class in test, it’s hard to generalize.\n",
    "\n",
    "2. *Labels are noisy**\n",
    "   → “Neutral” is subjective and often overlaps with “Negative” in financial context.\n",
    "\n",
    "3. **Only 2 classes used**\n",
    "   → FinBERT was originally trained for 3 classes (positive/negative/neutral). Removing “Other” may have made labels less meaningful.\n",
    "\n",
    "4. **Few training epochs (3)**\n",
    "   → Might not be enough for fine-tuning; try 5–10 epochs with early stopping.\n",
    "\n",
    "---\n"
   ]
  },
  {
   "cell_type": "markdown",
   "metadata": {},
   "source": [
    "## FinBERT Training (2 Classes, 6 Epochs)"
   ]
  },
  {
   "cell_type": "code",
   "execution_count": 21,
   "metadata": {},
   "outputs": [
    {
     "name": "stderr",
     "output_type": "stream",
     "text": [
      "Some weights of BertForSequenceClassification were not initialized from the model checkpoint at ProsusAI/finbert and are newly initialized because the shapes did not match:\n",
      "- classifier.weight: found shape torch.Size([3, 768]) in the checkpoint and torch.Size([2, 768]) in the model instantiated\n",
      "- classifier.bias: found shape torch.Size([3]) in the checkpoint and torch.Size([2]) in the model instantiated\n",
      "You should probably TRAIN this model on a down-stream task to be able to use it for predictions and inference.\n",
      "/home/pollyanas/anaconda3/lib/python3.7/site-packages/transformers/optimization.py:415: FutureWarning: This implementation of AdamW is deprecated and will be removed in a future version. Use the PyTorch implementation torch.optim.AdamW instead, or set `no_deprecation_warning=True` to disable this warning\n",
      "  FutureWarning,\n",
      "You're using a BertTokenizerFast tokenizer. Please note that with a fast tokenizer, using the `__call__` method is faster than using a method to encode the text followed by a call to the `pad` method to get a padded encoding.\n"
     ]
    },
    {
     "data": {
      "text/html": [
       "\n",
       "    <div>\n",
       "      \n",
       "      <progress value='552' max='552' style='width:300px; height:20px; vertical-align: middle;'></progress>\n",
       "      [552/552 30:50, Epoch 6/6]\n",
       "    </div>\n",
       "    <table border=\"1\" class=\"dataframe\">\n",
       "  <thead>\n",
       " <tr style=\"text-align: left;\">\n",
       "      <th>Epoch</th>\n",
       "      <th>Training Loss</th>\n",
       "      <th>Validation Loss</th>\n",
       "      <th>Accuracy</th>\n",
       "      <th>F1 Macro</th>\n",
       "      <th>F1 Weighted</th>\n",
       "    </tr>\n",
       "  </thead>\n",
       "  <tbody>\n",
       "    <tr>\n",
       "      <td>1</td>\n",
       "      <td>No log</td>\n",
       "      <td>0.694244</td>\n",
       "      <td>0.504087</td>\n",
       "      <td>0.423792</td>\n",
       "      <td>0.426723</td>\n",
       "    </tr>\n",
       "    <tr>\n",
       "      <td>2</td>\n",
       "      <td>No log</td>\n",
       "      <td>0.696244</td>\n",
       "      <td>0.514986</td>\n",
       "      <td>0.508235</td>\n",
       "      <td>0.507450</td>\n",
       "    </tr>\n",
       "    <tr>\n",
       "      <td>3</td>\n",
       "      <td>No log</td>\n",
       "      <td>0.700904</td>\n",
       "      <td>0.495913</td>\n",
       "      <td>0.435568</td>\n",
       "      <td>0.433053</td>\n",
       "    </tr>\n",
       "    <tr>\n",
       "      <td>4</td>\n",
       "      <td>No log</td>\n",
       "      <td>0.700486</td>\n",
       "      <td>0.514986</td>\n",
       "      <td>0.510535</td>\n",
       "      <td>0.511171</td>\n",
       "    </tr>\n",
       "    <tr>\n",
       "      <td>5</td>\n",
       "      <td>No log</td>\n",
       "      <td>0.702245</td>\n",
       "      <td>0.504087</td>\n",
       "      <td>0.503789</td>\n",
       "      <td>0.503955</td>\n",
       "    </tr>\n",
       "    <tr>\n",
       "      <td>6</td>\n",
       "      <td>0.696900</td>\n",
       "      <td>0.704523</td>\n",
       "      <td>0.509537</td>\n",
       "      <td>0.508716</td>\n",
       "      <td>0.508443</td>\n",
       "    </tr>\n",
       "  </tbody>\n",
       "</table><p>"
      ],
      "text/plain": [
       "<IPython.core.display.HTML object>"
      ]
     },
     "metadata": {},
     "output_type": "display_data"
    },
    {
     "data": {
      "text/html": [],
      "text/plain": [
       "<IPython.core.display.HTML object>"
      ]
     },
     "metadata": {},
     "output_type": "display_data"
    },
    {
     "name": "stdout",
     "output_type": "stream",
     "text": [
      "Classification Report:\n",
      "              precision    recall  f1-score   support\n",
      "\n",
      "    Negative       0.53      0.39      0.45       186\n",
      "     Neutral       0.51      0.64      0.57       181\n",
      "\n",
      "    accuracy                           0.51       367\n",
      "   macro avg       0.52      0.52      0.51       367\n",
      "weighted avg       0.52      0.51      0.51       367\n",
      "\n"
     ]
    },
    {
     "data": {
      "image/png": "[encoded data removed]",
      "text/plain": [
       "<Figure size 432x288 with 2 Axes>"
      ]
     },
     "metadata": {
      "needs_background": "light"
     },
     "output_type": "display_data"
    }
   ],
   "source": [
    "# ==============================\n",
    "# 1. Load & Prepare Data\n",
    "# ==============================\n",
    "# Load your CSV\n",
    "df = pd.read_csv(\"/home/pollyanas/Downloads/financial_news_2025/financial_news_events.csv\")\n",
    "\n",
    "# Keep only relevant columns\n",
    "df = df[['Headline', 'Sentiment']]\n",
    "\n",
    "# Drop missing values\n",
    "df.dropna(subset=['Headline'], inplace=True)\n",
    "\n",
    "# Use only 2 labels: Negative, Neutral\n",
    "label_map = {'Negative': 0, 'Neutral': 1}\n",
    "df = df[df['Sentiment'].isin(label_map.keys())]\n",
    "df['Label'] = df['Sentiment'].map(label_map)\n",
    "\n",
    "# Train-test split\n",
    "train_texts, test_texts, train_labels, test_labels = train_test_split(\n",
    "    df['Headline'].tolist(),\n",
    "    df['Label'].tolist(),\n",
    "    test_size=0.2,\n",
    "    random_state=42,\n",
    "    stratify=df['Label']\n",
    ")\n",
    "\n",
    "# ==============================\n",
    "# 2. Tokenizer\n",
    "# ==============================\n",
    "tokenizer = AutoTokenizer.from_pretrained(\"ProsusAI/finbert\")\n",
    "\n",
    "class NewsDataset(Dataset):\n",
    "    def __init__(self, texts, labels, tokenizer, max_len=64):\n",
    "        self.texts = texts\n",
    "        self.labels = labels\n",
    "        self.tokenizer = tokenizer\n",
    "        self.max_len = max_len\n",
    "\n",
    "    def __len__(self):\n",
    "        return len(self.texts)\n",
    "\n",
    "    def __getitem__(self, idx):\n",
    "        text = str(self.texts[idx])\n",
    "        label = self.labels[idx]\n",
    "        encoding = self.tokenizer(\n",
    "            text,\n",
    "            truncation=True,\n",
    "            padding=\"max_length\",\n",
    "            max_length=self.max_len,\n",
    "            return_tensors=\"pt\"\n",
    "        )\n",
    "        return {\n",
    "            \"input_ids\": encoding[\"input_ids\"].squeeze(),\n",
    "            \"attention_mask\": encoding[\"attention_mask\"].squeeze(),\n",
    "            \"labels\": torch.tensor(label, dtype=torch.long)\n",
    "        }\n",
    "\n",
    "train_dataset = NewsDataset(train_texts, train_labels, tokenizer)\n",
    "test_dataset = NewsDataset(test_texts, test_labels, tokenizer)\n",
    "\n",
    "# ==============================\n",
    "# 3. Load FinBERT \n",
    "# ==============================\n",
    "model = AutoModelForSequenceClassification.from_pretrained(\n",
    "    \"ProsusAI/finbert\",\n",
    "    num_labels=2,\n",
    "    ignore_mismatched_sizes=True \n",
    ")\n",
    "\n",
    "# ==============================\n",
    "# 4. Training Configuration\n",
    "# ==============================\n",
    "training_args = TrainingArguments(\n",
    "    output_dir=\"./finbert_results\",\n",
    "    evaluation_strategy=\"epoch\",\n",
    "    save_strategy=\"epoch\",\n",
    "    learning_rate=2e-5,\n",
    "    per_device_train_batch_size=16,\n",
    "    per_device_eval_batch_size=16,\n",
    "    num_train_epochs=6,    # Increased to 6 epochs\n",
    "    weight_decay=0.01,\n",
    "    logging_dir=\"./logs\",\n",
    "    load_best_model_at_end=True,\n",
    "    metric_for_best_model=\"accuracy\"\n",
    ")\n",
    "\n",
    "# ==============================\n",
    "# 5. Define Metrics\n",
    "# ==============================\n",
    "from sklearn.metrics import accuracy_score, f1_score\n",
    "\n",
    "def compute_metrics(eval_pred):\n",
    "    predictions, labels = eval_pred\n",
    "    preds = predictions.argmax(-1)\n",
    "    return {\n",
    "        \"accuracy\": accuracy_score(labels, preds),\n",
    "        \"f1_macro\": f1_score(labels, preds, average=\"macro\"),\n",
    "        \"f1_weighted\": f1_score(labels, preds, average=\"weighted\")\n",
    "    }\n",
    "\n",
    "# ==============================\n",
    "# 6. Trainer\n",
    "# ==============================\n",
    "trainer = Trainer(\n",
    "    model=model,\n",
    "    args=training_args,\n",
    "    train_dataset=train_dataset,\n",
    "    eval_dataset=test_dataset,\n",
    "    tokenizer=tokenizer,\n",
    "    compute_metrics=compute_metrics\n",
    ")\n",
    "\n",
    "# ==============================\n",
    "# 7. Train Model (6 epochs)\n",
    "# ==============================\n",
    "trainer.train()\n",
    "\n",
    "# ==============================\n",
    "# 8. Evaluate Model\n",
    "# ==============================\n",
    "preds = trainer.predict(test_dataset)\n",
    "y_pred = preds.predictions.argmax(-1)\n",
    "\n",
    "print(\"Classification Report:\")\n",
    "print(classification_report(test_labels, y_pred, target_names=label_map.keys()))\n",
    "\n",
    "# Confusion Matrix\n",
    "conf_matrix = confusion_matrix(test_labels, y_pred)\n",
    "plt.figure(figsize=(6,4))\n",
    "sns.heatmap(conf_matrix, annot=True, fmt='d',\n",
    "            xticklabels=label_map.keys(),\n",
    "            yticklabels=label_map.keys(),\n",
    "            cmap=\"Blues\")\n",
    "plt.xlabel(\"Predicted\")\n",
    "plt.ylabel(\"Actual\")\n",
    "plt.title(\"FinBERT Sentiment Classification (6 epochs, 2 classes)\")\n",
    "plt.show()"
   ]
  },
  {
   "cell_type": "markdown",
   "metadata": {},
   "source": [
    "## Results Overview\n",
    "\n",
    "**Negative class**\n",
    "\n",
    "* Precision = 0.53 → ~half of “Negative” predictions are correct\n",
    "* Recall = 0.39 → misses most of the true negatives\n",
    "* F1 = 0.45\n",
    "\n",
    "**Neutral class**\n",
    "\n",
    "* Precision = 0.51\n",
    "* Recall = 0.64 → much better at catching neutral cases than negatives\n",
    "* F1 = 0.57\n",
    "\n",
    "**Overall Accuracy = 0.51**\n",
    "\n",
    "* Still stuck around **random guessing baseline** for 2 balanced classes\n",
    "\n",
    "**Confusion Matrix**\n",
    "\n",
    "* **Negative misclassified as Neutral = 113**\n",
    "* **Neutral misclassified as Negative = 65**\n",
    "* Model has developed a **bias toward predicting Neutral**\n",
    "\n",
    "---\n",
    "\n",
    "## What This Means\n",
    "\n",
    "* FinBERT is **not learning well** from your dataset.\n",
    "* The model is latching onto **superficial patterns** and defaulting to Neutral.\n",
    "* The issue is **not training time** (3 vs 6 epochs didn’t help much).\n",
    "\n",
    "This confirms what I suspected earlier:\n",
    " The **labels are weak/noisy** (especially \"Neutral\"), and/or the dataset size (~3k headlines) is too small to fine-tune a transformer effectively.\n",
    "\n",
    "---"
   ]
  },
  {
   "cell_type": "markdown",
   "metadata": {},
   "source": [
    "## FinBERT Embeddings + Logistic Regression\n",
    "\n",
    "#### FinBERT embeddings instead of full fine-tuning is much better for a relatively small dataset (~3k rows)."
   ]
  },
  {
   "cell_type": "code",
   "execution_count": 24,
   "metadata": {},
   "outputs": [
    {
     "name": "stderr",
     "output_type": "stream",
     "text": [
      "Some weights of the model checkpoint at ProsusAI/finbert were not used when initializing BertModel: ['classifier.bias', 'classifier.weight']\n",
      "- This IS expected if you are initializing BertModel from the checkpoint of a model trained on another task or with another architecture (e.g. initializing a BertForSequenceClassification model from a BertForPreTraining model).\n",
      "- This IS NOT expected if you are initializing BertModel from the checkpoint of a model that you expect to be exactly identical (initializing a BertForSequenceClassification model from a BertForSequenceClassification model).\n"
     ]
    },
    {
     "name": "stdout",
     "output_type": "stream",
     "text": [
      "Classification Report:\n",
      "              precision    recall  f1-score   support\n",
      "\n",
      "    Negative       0.53      0.53      0.53       186\n",
      "     Neutral       0.51      0.51      0.51       181\n",
      "\n",
      "    accuracy                           0.52       367\n",
      "   macro avg       0.52      0.52      0.52       367\n",
      "weighted avg       0.52      0.52      0.52       367\n",
      "\n"
     ]
    },
    {
     "data": {
      "image/png": "[encoded data removed]",
      "text/plain": [
       "<Figure size 432x288 with 2 Axes>"
      ]
     },
     "metadata": {
      "needs_background": "light"
     },
     "output_type": "display_data"
    }
   ],
   "source": [
    "# ==============================\n",
    "# 1. Load & Prepare Data\n",
    "# ==============================\n",
    "\n",
    "# Load your CSV\n",
    "df = pd.read_csv(\"/home/pollyanas/Downloads/financial_news_2025/financial_news_events.csv\")\n",
    "\n",
    "# Keep only relevant columns\n",
    "df = df[['Headline', 'Sentiment']]\n",
    "\n",
    "# Drop missing values\n",
    "df.dropna(subset=['Headline'], inplace=True)\n",
    "\n",
    "# Use only 2 labels: Negative, Neutral\n",
    "label_map = {'Negative': 0, 'Neutral': 1}\n",
    "df = df[df['Sentiment'].isin(label_map.keys())]\n",
    "df['Label'] = df['Sentiment'].map(label_map)\n",
    "\n",
    "train_texts, test_texts, train_labels, test_labels = train_test_split(\n",
    "    df['Headline'].tolist(),\n",
    "    df['Label'].tolist(),\n",
    "    test_size=0.2,\n",
    "    random_state=42,\n",
    "    stratify=df['Label']\n",
    ")\n",
    "\n",
    "# ==============================\n",
    "# 2. Load FinBERT (encoder only)\n",
    "# ==============================\n",
    "tokenizer = AutoTokenizer.from_pretrained(\"ProsusAI/finbert\")\n",
    "model = AutoModel.from_pretrained(\"ProsusAI/finbert\")\n",
    "\n",
    "device = torch.device(\"cuda\" if torch.cuda.is_available() else \"cpu\")\n",
    "model = model.to(device)\n",
    "model.eval()  # disable dropout\n",
    "\n",
    "# ==============================\n",
    "# 3. Function to get embeddings\n",
    "# ==============================\n",
    "def get_embeddings(texts, tokenizer, model, max_len=64):\n",
    "    embeddings = []\n",
    "    for text in texts:\n",
    "        inputs = tokenizer(\n",
    "            text,\n",
    "            truncation=True,\n",
    "            padding=\"max_length\",\n",
    "            max_length=max_len,\n",
    "            return_tensors=\"pt\"\n",
    "        ).to(device)\n",
    "\n",
    "        with torch.no_grad():\n",
    "            outputs = model(**inputs)\n",
    "            cls_embedding = outputs.last_hidden_state[:,0,:]  # [CLS] token\n",
    "            embeddings.append(cls_embedding.cpu().numpy().flatten())\n",
    "    return embeddings\n",
    "\n",
    "# Extract embeddings\n",
    "X_train = get_embeddings(train_texts, tokenizer, model)\n",
    "X_test = get_embeddings(test_texts, tokenizer, model)\n",
    "\n",
    "# ==============================\n",
    "# 4. Train Logistic Regression\n",
    "# ==============================\n",
    "clf = LogisticRegression(max_iter=2000)\n",
    "clf.fit(X_train, train_labels)\n",
    "\n",
    "y_pred = clf.predict(X_test)\n",
    "\n",
    "# ==============================\n",
    "# 5. Evaluate\n",
    "# ==============================\n",
    "print(\"Classification Report:\")\n",
    "print(classification_report(test_labels, y_pred, target_names=label_map.keys()))\n",
    "\n",
    "# Confusion Matrix\n",
    "conf_matrix = confusion_matrix(test_labels, y_pred)\n",
    "plt.figure(figsize=(6,4))\n",
    "sns.heatmap(conf_matrix, annot=True, fmt='d',\n",
    "            xticklabels=label_map.keys(),\n",
    "            yticklabels=label_map.keys(),\n",
    "            cmap=\"Blues\")\n",
    "plt.xlabel(\"Predicted\")\n",
    "plt.ylabel(\"Actual\")\n",
    "plt.title(\"FinBERT Embeddings + Logistic Regression\")\n",
    "plt.show()"
   ]
  },
  {
   "cell_type": "markdown",
   "metadata": {},
   "source": [
    "## Results: FinBERT Embeddings + Logistic Regression\n",
    "\n",
    "* **Negative**\n",
    "\n",
    "  * Precision = **0.53**\n",
    "  * Recall = **0.53**\n",
    "  * F1 = **0.53**\n",
    "\n",
    "* **Neutral**\n",
    "\n",
    "  * Precision = **0.51**\n",
    "  * Recall = **0.51**\n",
    "  * F1 = **0.51**\n",
    "\n",
    "* **Overall accuracy = 0.52**\n",
    "\n",
    "  * Still around **random guessing baseline** (50%).\n",
    "\n",
    "* **Confusion Matrix**\n",
    "\n",
    "  * Predictions are almost **evenly split** across both classes.\n",
    "  * The model is struggling to find **separating features** between Negative and Neutral.\n",
    "\n",
    "---\n",
    "\n",
    "##  Why is performance still weak?\n",
    "\n",
    "1. **Labels are noisy / ambiguous**\n",
    "\n",
    "   * In financial text, the line between *Negative* and *Neutral* is very subtle.\n",
    "   * Many “Neutral” headlines may contain weak negative tone (e.g., “Market closes flat after sell-off” → could be either).\n",
    "\n",
    "2. **Dataset is small**\n",
    "\n",
    "   * ~3,000 rows is *tiny* for NLP.\n",
    "   * Transformers like FinBERT typically shine with tens of thousands of samples.\n",
    "\n",
    "3. **Embeddings are good, but Logistic Regression is too simple**\n",
    "\n",
    "   * It assumes a linear separation in embedding space.\n",
    "   * If classes overlap, it will fail.\n",
    "\n",
    "---"
   ]
  },
  {
   "cell_type": "markdown",
   "metadata": {},
   "source": [
    "## FinBERT Embeddings + XGBoost"
   ]
  },
  {
   "cell_type": "code",
   "execution_count": 26,
   "metadata": {},
   "outputs": [
    {
     "name": "stderr",
     "output_type": "stream",
     "text": [
      "Some weights of the model checkpoint at ProsusAI/finbert were not used when initializing BertModel: ['classifier.bias', 'classifier.weight']\n",
      "- This IS expected if you are initializing BertModel from the checkpoint of a model trained on another task or with another architecture (e.g. initializing a BertForSequenceClassification model from a BertForPreTraining model).\n",
      "- This IS NOT expected if you are initializing BertModel from the checkpoint of a model that you expect to be exactly identical (initializing a BertForSequenceClassification model from a BertForSequenceClassification model).\n"
     ]
    },
    {
     "name": "stdout",
     "output_type": "stream",
     "text": [
      "Classification Report:\n",
      "              precision    recall  f1-score   support\n",
      "\n",
      "    Negative       0.52      0.53      0.53       186\n",
      "     Neutral       0.51      0.50      0.50       181\n",
      "\n",
      "    accuracy                           0.51       367\n",
      "   macro avg       0.51      0.51      0.51       367\n",
      "weighted avg       0.51      0.51      0.51       367\n",
      "\n"
     ]
    },
    {
     "data": {
      "image/png": "[encoded data removed]",
      "text/plain": [
       "<Figure size 432x288 with 2 Axes>"
      ]
     },
     "metadata": {
      "needs_background": "light"
     },
     "output_type": "display_data"
    }
   ],
   "source": [
    "# ==============================\n",
    "# 1. Load & Prepare Data\n",
    "# ==============================\n",
    "\n",
    "# Load your CSV\n",
    "df = pd.read_csv(\"/home/pollyanas/Downloads/financial_news_2025/financial_news_events.csv\")\n",
    "\n",
    "# Keep only relevant columns\n",
    "df = df[['Headline', 'Sentiment']]\n",
    "\n",
    "# Drop missing values\n",
    "df.dropna(subset=['Headline'], inplace=True)\n",
    "\n",
    "# Use only 2 labels: Negative, Neutral\n",
    "label_map = {'Negative': 0, 'Neutral': 1}\n",
    "df = df[df['Sentiment'].isin(label_map.keys())]\n",
    "df['Label'] = df['Sentiment'].map(label_map)\n",
    "\n",
    "# Train-test split\n",
    "train_texts, test_texts, train_labels, test_labels = train_test_split(\n",
    "    df['Headline'].tolist(),\n",
    "    df['Label'].tolist(),\n",
    "    test_size=0.2,\n",
    "    random_state=42,\n",
    "    stratify=df['Label']\n",
    ")\n",
    "\n",
    "# ==============================\n",
    "# 2. Load FinBERT (encoder only)\n",
    "# ==============================\n",
    "tokenizer = AutoTokenizer.from_pretrained(\"ProsusAI/finbert\")\n",
    "model = AutoModel.from_pretrained(\"ProsusAI/finbert\")\n",
    "\n",
    "device = torch.device(\"cuda\" if torch.cuda.is_available() else \"cpu\")\n",
    "model = model.to(device)\n",
    "model.eval()\n",
    "\n",
    "# ==============================\n",
    "# 3. Function to get embeddings\n",
    "# ==============================\n",
    "def get_embeddings(texts, tokenizer, model, max_len=64):\n",
    "    embeddings = []\n",
    "    for text in texts:\n",
    "        inputs = tokenizer(\n",
    "            text,\n",
    "            truncation=True,\n",
    "            padding=\"max_length\",\n",
    "            max_length=max_len,\n",
    "            return_tensors=\"pt\"\n",
    "        ).to(device)\n",
    "\n",
    "        with torch.no_grad():\n",
    "            outputs = model(**inputs)\n",
    "            cls_embedding = outputs.last_hidden_state[:,0,:]  # CLS token\n",
    "            embeddings.append(cls_embedding.cpu().numpy().flatten())\n",
    "    return embeddings\n",
    "\n",
    "# Extract embeddings\n",
    "X_train = get_embeddings(train_texts, tokenizer, model)\n",
    "X_test = get_embeddings(test_texts, tokenizer, model)\n",
    "\n",
    "# ==============================\n",
    "# 4. Train XGBoost Classifier\n",
    "# ==============================\n",
    "xgb = XGBClassifier(\n",
    "    n_estimators=300,        # number of trees\n",
    "    learning_rate=0.05,      # smaller LR for stability\n",
    "    max_depth=6,             # tree depth\n",
    "    subsample=0.8,           # row sampling\n",
    "    colsample_bytree=0.8,    # feature sampling\n",
    "    random_state=42,\n",
    "    eval_metric=\"logloss\",\n",
    "    use_label_encoder=False\n",
    ")\n",
    "\n",
    "xgb.fit(X_train, train_labels)\n",
    "y_pred = xgb.predict(X_test)\n",
    "\n",
    "# ==============================\n",
    "# 5. Evaluate\n",
    "# ==============================\n",
    "print(\"Classification Report:\")\n",
    "print(classification_report(test_labels, y_pred, target_names=label_map.keys()))\n",
    "\n",
    "# Confusion Matrix\n",
    "conf_matrix = confusion_matrix(test_labels, y_pred)\n",
    "plt.figure(figsize=(6,4))\n",
    "sns.heatmap(conf_matrix, annot=True, fmt='d',\n",
    "            xticklabels=label_map.keys(),\n",
    "            yticklabels=label_map.keys(),\n",
    "            cmap=\"Blues\")\n",
    "plt.xlabel(\"Predicted\")\n",
    "plt.ylabel(\"Actual\")\n",
    "plt.title(\"FinBERT Embeddings + XGBoost Classification\")\n",
    "plt.show()"
   ]
  },
  {
   "cell_type": "markdown",
   "metadata": {},
   "source": [
    "\n",
    "## Results: FinBERT Embeddings + XGBoost\n",
    "\n",
    "* **Negative**\n",
    "\n",
    "  * Precision = **0.52**\n",
    "  * Recall = **0.53**\n",
    "  * F1 = **0.53**\n",
    "\n",
    "* **Neutral**\n",
    "\n",
    "  * Precision = **0.51**\n",
    "  * Recall = **0.50**\n",
    "  * F1 = **0.50**\n",
    "\n",
    "* **Overall Accuracy = 0.51**\n",
    "\n",
    "* **Macro avg F1 = 0.51**\n",
    "\n",
    "**Confusion Matrix**\n",
    "\n",
    "* Model is still basically **guessing ~50/50**.\n",
    "* Negative correctly predicted = 99\n",
    "* Neutral correctly predicted = 90\n",
    "* Misclassifications are nearly symmetric → the classes **aren’t separable in embedding space**.\n",
    "\n",
    "---\n",
    "\n",
    "## What This Means\n",
    "\n",
    "* FinBERT embeddings are **not giving a clear separation** between \"Negative\" and \"Neutral\" in your dataset.\n",
    "* This matches the problem we’ve seen across all approaches (TF-IDF, Logistic Regression, fine-tuned FinBERT, embeddings).\n",
    "* Likely reasons:\n",
    "\n",
    "  1. **Labels are noisy** → what counts as “Neutral” vs “Negative” in financial headlines is subjective.\n",
    "  2. **Dataset is small (~3k samples)** → not enough training data to teach models the distinction.\n",
    "  3. **Headline text alone may not carry enough signal** → sometimes you need context (impact level, sector, or actual market move).\n",
    "\n",
    "---"
   ]
  },
  {
   "cell_type": "markdown",
   "metadata": {},
   "source": [
    "# Visualizing FinBERT Embeddings with PCA & t-SNE"
   ]
  },
  {
   "cell_type": "markdown",
   "metadata": {},
   "source": [
    "##### let’s visualize your FinBERT embeddings to see if \"Negative\" and \"Neutral\" are actually separable in vector space.\n",
    "##### PCA (linear projection) and t-SNE (non-linear clustering) to reduce the 768-dim embeddings to 2D for plotting.\n",
    "\n",
    "\n",
    "### Check whether embeddings form separable clusters:\n",
    "\n",
    "#### Use PCA or t-SNE on the FinBERT embeddings.\n",
    "\n",
    "#### Plot with points colored by label.\n",
    "\n",
    "#### If clusters overlap → no algorithm will do well on this dataset as-is."
   ]
  },
  {
   "cell_type": "code",
   "execution_count": 27,
   "metadata": {},
   "outputs": [
    {
     "data": {
      "image/png": "[encoded data removed]",
      "text/plain": [
       "<Figure size 576x432 with 1 Axes>"
      ]
     },
     "metadata": {
      "needs_background": "light"
     },
     "output_type": "display_data"
    },
    {
     "name": "stderr",
     "output_type": "stream",
     "text": [
      "/home/pollyanas/anaconda3/lib/python3.7/site-packages/sklearn/manifold/_t_sne.py:783: FutureWarning: The default initialization in TSNE will change from 'random' to 'pca' in 1.2.\n",
      "  FutureWarning,\n",
      "/home/pollyanas/anaconda3/lib/python3.7/site-packages/sklearn/manifold/_t_sne.py:793: FutureWarning: The default learning rate in TSNE will change from 200.0 to 'auto' in 1.2.\n",
      "  FutureWarning,\n"
     ]
    },
    {
     "data": {
      "image/png": "[encoded data removed]",
      "text/plain": [
       "<Figure size 576x432 with 1 Axes>"
      ]
     },
     "metadata": {
      "needs_background": "light"
     },
     "output_type": "display_data"
    }
   ],
   "source": [
    "import numpy as np\n",
    "import matplotlib.pyplot as plt\n",
    "import seaborn as sns\n",
    "from sklearn.decomposition import PCA\n",
    "from sklearn.manifold import TSNE\n",
    "\n",
    "# Convert lists to arrays\n",
    "X_train_array = np.array(X_train)\n",
    "X_test_array = np.array(X_test)\n",
    "y_train_array = np.array(train_labels)\n",
    "y_test_array = np.array(test_labels)\n",
    "\n",
    "# ==============================\n",
    "# 1. PCA Visualization\n",
    "# ==============================\n",
    "pca = PCA(n_components=2)\n",
    "X_pca = pca.fit_transform(X_test_array)\n",
    "\n",
    "plt.figure(figsize=(8,6))\n",
    "sns.scatterplot(x=X_pca[:,0], y=X_pca[:,1], hue=y_test_array, palette=\"coolwarm\", alpha=0.7)\n",
    "plt.title(\"FinBERT Embeddings (PCA)\")\n",
    "plt.xlabel(\"PCA Component 1\")\n",
    "plt.ylabel(\"PCA Component 2\")\n",
    "plt.legend(title=\"Sentiment\", labels=[\"Negative\",\"Neutral\"])\n",
    "plt.show()\n",
    "\n",
    "# ==============================\n",
    "# 2. t-SNE Visualization\n",
    "# ==============================\n",
    "tsne = TSNE(n_components=2, random_state=42, perplexity=30, n_iter=1000)\n",
    "X_tsne = tsne.fit_transform(X_test_array)\n",
    "\n",
    "plt.figure(figsize=(8,6))\n",
    "sns.scatterplot(x=X_tsne[:,0], y=X_tsne[:,1], hue=y_test_array, palette=\"coolwarm\", alpha=0.7)\n",
    "plt.title(\"FinBERT Embeddings (t-SNE)\")\n",
    "plt.xlabel(\"t-SNE Component 1\")\n",
    "plt.ylabel(\"t-SNE Component 2\")\n",
    "plt.legend(title=\"Sentiment\", labels=[\"Negative\",\"Neutral\"])\n",
    "plt.show()"
   ]
  },
  {
   "cell_type": "markdown",
   "metadata": {},
   "source": [
    "## Interpretation of PCA & t-SNE\n",
    "\n",
    "### PCA Plot\n",
    "\n",
    "* Shows **global variance directions**.\n",
    "* Red (Negative) and Blue (Neutral) points are **spread but heavily overlapping**.\n",
    "* No clear linear separation → explains why Logistic Regression failed.\n",
    "\n",
    "### t-SNE Plot\n",
    "\n",
    "* Captures **local neighborhood clustering**.\n",
    "* Again, Negative and Neutral are **mixed inside the same regions**.\n",
    "* Some mini-clusters exist, but they contain both classes → the model can’t cleanly distinguish them.\n",
    "\n",
    "---\n",
    "\n",
    "## Conclusion\n",
    "\n",
    "Both **linear (PCA)** and **non-linear (t-SNE)** projections confirm:\n",
    "FinBERT embeddings **do not form separable clusters for Negative vs Neutral** in this dataset.\n",
    "This matches the ~50% accuracy you saw across Logistic Regression, XGBoost, and fine-tuned FinBERT.\n",
    "\n",
    "---"
   ]
  }
 ],
 "metadata": {
  "kernelspec": {
   "display_name": "Python 3",
   "language": "python",
   "name": "python3"
  },
  "language_info": {
   "codemirror_mode": {
    "name": "ipython",
    "version": 3
   },
   "file_extension": ".py",
   "mimetype": "text/x-python",
   "name": "python",
   "nbconvert_exporter": "python",
   "pygments_lexer": "ipython3",
   "version": "3.7.6"
  }
 },
 "nbformat": 4,
 "nbformat_minor": 4
}
